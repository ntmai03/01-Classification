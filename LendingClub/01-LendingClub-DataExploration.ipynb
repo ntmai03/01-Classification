{
 "cells": [
  {
   "cell_type": "markdown",
   "metadata": {},
   "source": [
    "# Introduction"
   ]
  },
  {
   "cell_type": "markdown",
   "metadata": {},
   "source": [
    "LendingClub is a US peer-to-peer lending company, headquartered in San Francisco, California.[3] It was the first peer-to-peer lender to register its offerings as securities with the Securities and Exchange Commission (SEC), and to offer loan trading on a secondary market. LendingClub is the world's largest peer-to-peer lending platform.\n",
    "\n",
    "**Goal/Objective**\n",
    "Given historical data on loans given out with information on whether or not the borrower defaulted (charge-off), can we build a model thatcan predict wether or nor a borrower will pay back their loan? This way in the future when we get a new potential customer we can assess whether or not they are likely to pay back the loan. Keep in mind classification metrics when evaluating the performance of your model!"
   ]
  },
  {
   "cell_type": "markdown",
   "metadata": {},
   "source": [
    "# 1. Import library"
   ]
  },
  {
   "cell_type": "code",
   "execution_count": 1,
   "metadata": {},
   "outputs": [
    {
     "name": "stdout",
     "output_type": "stream",
     "text": [
      "Setup complete...\n"
     ]
    }
   ],
   "source": [
    "import pandas as pd\n",
    "import numpy as np\n",
    "import matplotlib.pyplot as plt\n",
    "import seaborn as sns\n",
    "\n",
    "# might be needed depending on your version of Jupyter\n",
    "%matplotlib inline\n",
    "\n",
    "# Configuration\n",
    "pd.set_option('display.max_rows', 500)\n",
    "pd.set_option('display.max_columns', None)\n",
    "pd.set_option('display.width', 500)\n",
    "\n",
    "# display various ranges \n",
    "pd.options.display.float_format = '{:.3f}'.format\n",
    "\n",
    "# Supress warnings\n",
    "import warnings\n",
    "warnings.filterwarnings(\"ignore\")\n",
    "\n",
    "print(\"Setup complete...\")"
   ]
  },
  {
   "cell_type": "markdown",
   "metadata": {},
   "source": [
    "# 2. Import data"
   ]
  },
  {
   "cell_type": "code",
   "execution_count": 2,
   "metadata": {},
   "outputs": [
    {
     "data": {
      "text/plain": [
       "(396030, 27)"
      ]
     },
     "execution_count": 2,
     "metadata": {},
     "output_type": "execute_result"
    }
   ],
   "source": [
    "df = pd.read_csv('lending_club_loan_two.csv')\n",
    "df.shape"
   ]
  },
  {
   "cell_type": "markdown",
   "metadata": {},
   "source": [
    "# 3. Data Exploration"
   ]
  },
  {
   "cell_type": "markdown",
   "metadata": {},
   "source": [
    "## 3.1. Descriptive Statistics"
   ]
  },
  {
   "cell_type": "markdown",
   "metadata": {},
   "source": [
    "### 3.1.1. Data Overview"
   ]
  },
  {
   "cell_type": "markdown",
   "metadata": {},
   "source": [
    "----\n",
    "-----\n",
    "There are many LendingClub data sets on Kaggle. Here is the information on this particular data set:\n",
    "\n",
    "<table border=\"1\" class=\"dataframe\">\n",
    "  <thead>\n",
    "    <tr style=\"text-align: right;\">\n",
    "      <th></th>\n",
    "      <th>LoanStatNew</th>\n",
    "      <th>Description</th>\n",
    "    </tr>\n",
    "  </thead>\n",
    "  <tbody>\n",
    "    <tr>\n",
    "      <th>0</th>\n",
    "      <td>loan_amnt</td>\n",
    "      <td>The listed amount of the loan applied for by the borrower. If at some point in time, the credit department reduces the loan amount, then it will be reflected in this value.</td>\n",
    "    </tr>\n",
    "    <tr>\n",
    "      <th>1</th>\n",
    "      <td>term</td>\n",
    "      <td>The number of payments on the loan. Values are in months and can be either 36 or 60.</td>\n",
    "    </tr>\n",
    "    <tr>\n",
    "      <th>2</th>\n",
    "      <td>int_rate</td>\n",
    "      <td>Interest Rate on the loan</td>\n",
    "    </tr>\n",
    "    <tr>\n",
    "      <th>3</th>\n",
    "      <td>installment</td>\n",
    "      <td>The monthly payment owed by the borrower if the loan originates.</td>\n",
    "    </tr>\n",
    "    <tr>\n",
    "      <th>4</th>\n",
    "      <td>grade</td>\n",
    "      <td>LC assigned loan grade</td>\n",
    "    </tr>\n",
    "    <tr>\n",
    "      <th>5</th>\n",
    "      <td>sub_grade</td>\n",
    "      <td>LC assigned loan subgrade</td>\n",
    "    </tr>\n",
    "    <tr>\n",
    "      <th>6</th>\n",
    "      <td>emp_title</td>\n",
    "      <td>The job title supplied by the Borrower when applying for the loan.*</td>\n",
    "    </tr>\n",
    "    <tr>\n",
    "      <th>7</th>\n",
    "      <td>emp_length</td>\n",
    "      <td>Employment length in years. Possible values are between 0 and 10 where 0 means less than one year and 10 means ten or more years.</td>\n",
    "    </tr>\n",
    "    <tr>\n",
    "      <th>8</th>\n",
    "      <td>home_ownership</td>\n",
    "      <td>The home ownership status provided by the borrower during registration or obtained from the credit report. Our values are: RENT, OWN, MORTGAGE, OTHER</td>\n",
    "    </tr>\n",
    "    <tr>\n",
    "      <th>9</th>\n",
    "      <td>annual_inc</td>\n",
    "      <td>The self-reported annual income provided by the borrower during registration.</td>\n",
    "    </tr>\n",
    "    <tr>\n",
    "      <th>10</th>\n",
    "      <td>verification_status</td>\n",
    "      <td>Indicates if income was verified by LC, not verified, or if the income source was verified</td>\n",
    "    </tr>\n",
    "    <tr>\n",
    "      <th>11</th>\n",
    "      <td>issue_d</td>\n",
    "      <td>The month which the loan was funded</td>\n",
    "    </tr>\n",
    "    <tr>\n",
    "      <th>12</th>\n",
    "      <td>loan_status</td>\n",
    "      <td>Current status of the loan</td>\n",
    "    </tr>\n",
    "    <tr>\n",
    "      <th>13</th>\n",
    "      <td>purpose</td>\n",
    "      <td>A category provided by the borrower for the loan request.</td>\n",
    "    </tr>\n",
    "    <tr>\n",
    "      <th>14</th>\n",
    "      <td>title</td>\n",
    "      <td>The loan title provided by the borrower</td>\n",
    "    </tr>\n",
    "    <tr>\n",
    "      <th>15</th>\n",
    "      <td>zip_code</td>\n",
    "      <td>The first 3 numbers of the zip code provided by the borrower in the loan application.</td>\n",
    "    </tr>\n",
    "    <tr>\n",
    "      <th>16</th>\n",
    "      <td>addr_state</td>\n",
    "      <td>The state provided by the borrower in the loan application</td>\n",
    "    </tr>\n",
    "    <tr>\n",
    "      <th>17</th>\n",
    "      <td>dti</td>\n",
    "      <td>A ratio calculated using the borrower’s total monthly debt payments on the total debt obligations, excluding mortgage and the requested LC loan, divided by the borrower’s self-reported monthly income.</td>\n",
    "    </tr>\n",
    "    <tr>\n",
    "      <th>18</th>\n",
    "      <td>earliest_cr_line</td>\n",
    "      <td>The month the borrower's earliest reported credit line was opened</td>\n",
    "    </tr>\n",
    "    <tr>\n",
    "      <th>19</th>\n",
    "      <td>open_acc</td>\n",
    "      <td>The number of open credit lines in the borrower's credit file.</td>\n",
    "    </tr>\n",
    "    <tr>\n",
    "      <th>20</th>\n",
    "      <td>pub_rec</td>\n",
    "      <td>Number of derogatory public records</td>\n",
    "    </tr>\n",
    "    <tr>\n",
    "      <th>21</th>\n",
    "      <td>revol_bal</td>\n",
    "      <td>Total credit revolving balance</td>\n",
    "    </tr>\n",
    "    <tr>\n",
    "      <th>22</th>\n",
    "      <td>revol_util</td>\n",
    "      <td>Revolving line utilization rate, or the amount of credit the borrower is using relative to all available revolving credit.</td>\n",
    "    </tr>\n",
    "    <tr>\n",
    "      <th>23</th>\n",
    "      <td>total_acc</td>\n",
    "      <td>The total number of credit lines currently in the borrower's credit file</td>\n",
    "    </tr>\n",
    "    <tr>\n",
    "      <th>24</th>\n",
    "      <td>initial_list_status</td>\n",
    "      <td>The initial listing status of the loan. Possible values are – W, F</td>\n",
    "    </tr>\n",
    "    <tr>\n",
    "      <th>25</th>\n",
    "      <td>application_type</td>\n",
    "      <td>Indicates whether the loan is an individual application or a joint application with two co-borrowers</td>\n",
    "    </tr>\n",
    "    <tr>\n",
    "      <th>26</th>\n",
    "      <td>mort_acc</td>\n",
    "      <td>Number of mortgage accounts.</td>\n",
    "    </tr>\n",
    "    <tr>\n",
    "      <th>27</th>\n",
    "      <td>pub_rec_bankruptcies</td>\n",
    "      <td>Number of public record bankruptcies</td>\n",
    "    </tr>\n",
    "  </tbody>\n",
    "</table>\n",
    "\n",
    "---\n",
    "----"
   ]
  },
  {
   "cell_type": "code",
   "execution_count": 3,
   "metadata": {},
   "outputs": [
    {
     "data": {
      "text/html": [
       "<div>\n",
       "<style scoped>\n",
       "    .dataframe tbody tr th:only-of-type {\n",
       "        vertical-align: middle;\n",
       "    }\n",
       "\n",
       "    .dataframe tbody tr th {\n",
       "        vertical-align: top;\n",
       "    }\n",
       "\n",
       "    .dataframe thead th {\n",
       "        text-align: right;\n",
       "    }\n",
       "</style>\n",
       "<table border=\"1\" class=\"dataframe\">\n",
       "  <thead>\n",
       "    <tr style=\"text-align: right;\">\n",
       "      <th></th>\n",
       "      <th>loan_amnt</th>\n",
       "      <th>term</th>\n",
       "      <th>int_rate</th>\n",
       "      <th>installment</th>\n",
       "      <th>grade</th>\n",
       "      <th>sub_grade</th>\n",
       "      <th>emp_title</th>\n",
       "      <th>emp_length</th>\n",
       "      <th>home_ownership</th>\n",
       "      <th>annual_inc</th>\n",
       "      <th>verification_status</th>\n",
       "      <th>issue_d</th>\n",
       "      <th>loan_status</th>\n",
       "      <th>purpose</th>\n",
       "      <th>title</th>\n",
       "      <th>dti</th>\n",
       "      <th>earliest_cr_line</th>\n",
       "      <th>open_acc</th>\n",
       "      <th>pub_rec</th>\n",
       "      <th>revol_bal</th>\n",
       "      <th>revol_util</th>\n",
       "      <th>total_acc</th>\n",
       "      <th>initial_list_status</th>\n",
       "      <th>application_type</th>\n",
       "      <th>mort_acc</th>\n",
       "      <th>pub_rec_bankruptcies</th>\n",
       "      <th>address</th>\n",
       "    </tr>\n",
       "  </thead>\n",
       "  <tbody>\n",
       "    <tr>\n",
       "      <th>0</th>\n",
       "      <td>10000.000</td>\n",
       "      <td>36 months</td>\n",
       "      <td>11.440</td>\n",
       "      <td>329.480</td>\n",
       "      <td>B</td>\n",
       "      <td>B4</td>\n",
       "      <td>Marketing</td>\n",
       "      <td>10+ years</td>\n",
       "      <td>RENT</td>\n",
       "      <td>117000.000</td>\n",
       "      <td>Not Verified</td>\n",
       "      <td>Jan-2015</td>\n",
       "      <td>Fully Paid</td>\n",
       "      <td>vacation</td>\n",
       "      <td>Vacation</td>\n",
       "      <td>26.240</td>\n",
       "      <td>Jun-1990</td>\n",
       "      <td>16.000</td>\n",
       "      <td>0.000</td>\n",
       "      <td>36369.000</td>\n",
       "      <td>41.800</td>\n",
       "      <td>25.000</td>\n",
       "      <td>w</td>\n",
       "      <td>INDIVIDUAL</td>\n",
       "      <td>0.000</td>\n",
       "      <td>0.000</td>\n",
       "      <td>0174 Michelle Gateway\\nMendozaberg, OK 22690</td>\n",
       "    </tr>\n",
       "    <tr>\n",
       "      <th>1</th>\n",
       "      <td>8000.000</td>\n",
       "      <td>36 months</td>\n",
       "      <td>11.990</td>\n",
       "      <td>265.680</td>\n",
       "      <td>B</td>\n",
       "      <td>B5</td>\n",
       "      <td>Credit analyst</td>\n",
       "      <td>4 years</td>\n",
       "      <td>MORTGAGE</td>\n",
       "      <td>65000.000</td>\n",
       "      <td>Not Verified</td>\n",
       "      <td>Jan-2015</td>\n",
       "      <td>Fully Paid</td>\n",
       "      <td>debt_consolidation</td>\n",
       "      <td>Debt consolidation</td>\n",
       "      <td>22.050</td>\n",
       "      <td>Jul-2004</td>\n",
       "      <td>17.000</td>\n",
       "      <td>0.000</td>\n",
       "      <td>20131.000</td>\n",
       "      <td>53.300</td>\n",
       "      <td>27.000</td>\n",
       "      <td>f</td>\n",
       "      <td>INDIVIDUAL</td>\n",
       "      <td>3.000</td>\n",
       "      <td>0.000</td>\n",
       "      <td>1076 Carney Fort Apt. 347\\nLoganmouth, SD 05113</td>\n",
       "    </tr>\n",
       "    <tr>\n",
       "      <th>2</th>\n",
       "      <td>15600.000</td>\n",
       "      <td>36 months</td>\n",
       "      <td>10.490</td>\n",
       "      <td>506.970</td>\n",
       "      <td>B</td>\n",
       "      <td>B3</td>\n",
       "      <td>Statistician</td>\n",
       "      <td>&lt; 1 year</td>\n",
       "      <td>RENT</td>\n",
       "      <td>43057.000</td>\n",
       "      <td>Source Verified</td>\n",
       "      <td>Jan-2015</td>\n",
       "      <td>Fully Paid</td>\n",
       "      <td>credit_card</td>\n",
       "      <td>Credit card refinancing</td>\n",
       "      <td>12.790</td>\n",
       "      <td>Aug-2007</td>\n",
       "      <td>13.000</td>\n",
       "      <td>0.000</td>\n",
       "      <td>11987.000</td>\n",
       "      <td>92.200</td>\n",
       "      <td>26.000</td>\n",
       "      <td>f</td>\n",
       "      <td>INDIVIDUAL</td>\n",
       "      <td>0.000</td>\n",
       "      <td>0.000</td>\n",
       "      <td>87025 Mark Dale Apt. 269\\nNew Sabrina, WV 05113</td>\n",
       "    </tr>\n",
       "    <tr>\n",
       "      <th>3</th>\n",
       "      <td>7200.000</td>\n",
       "      <td>36 months</td>\n",
       "      <td>6.490</td>\n",
       "      <td>220.650</td>\n",
       "      <td>A</td>\n",
       "      <td>A2</td>\n",
       "      <td>Client Advocate</td>\n",
       "      <td>6 years</td>\n",
       "      <td>RENT</td>\n",
       "      <td>54000.000</td>\n",
       "      <td>Not Verified</td>\n",
       "      <td>Nov-2014</td>\n",
       "      <td>Fully Paid</td>\n",
       "      <td>credit_card</td>\n",
       "      <td>Credit card refinancing</td>\n",
       "      <td>2.600</td>\n",
       "      <td>Sep-2006</td>\n",
       "      <td>6.000</td>\n",
       "      <td>0.000</td>\n",
       "      <td>5472.000</td>\n",
       "      <td>21.500</td>\n",
       "      <td>13.000</td>\n",
       "      <td>f</td>\n",
       "      <td>INDIVIDUAL</td>\n",
       "      <td>0.000</td>\n",
       "      <td>0.000</td>\n",
       "      <td>823 Reid Ford\\nDelacruzside, MA 00813</td>\n",
       "    </tr>\n",
       "    <tr>\n",
       "      <th>4</th>\n",
       "      <td>24375.000</td>\n",
       "      <td>60 months</td>\n",
       "      <td>17.270</td>\n",
       "      <td>609.330</td>\n",
       "      <td>C</td>\n",
       "      <td>C5</td>\n",
       "      <td>Destiny Management Inc.</td>\n",
       "      <td>9 years</td>\n",
       "      <td>MORTGAGE</td>\n",
       "      <td>55000.000</td>\n",
       "      <td>Verified</td>\n",
       "      <td>Apr-2013</td>\n",
       "      <td>Charged Off</td>\n",
       "      <td>credit_card</td>\n",
       "      <td>Credit Card Refinance</td>\n",
       "      <td>33.950</td>\n",
       "      <td>Mar-1999</td>\n",
       "      <td>13.000</td>\n",
       "      <td>0.000</td>\n",
       "      <td>24584.000</td>\n",
       "      <td>69.800</td>\n",
       "      <td>43.000</td>\n",
       "      <td>f</td>\n",
       "      <td>INDIVIDUAL</td>\n",
       "      <td>1.000</td>\n",
       "      <td>0.000</td>\n",
       "      <td>679 Luna Roads\\nGreggshire, VA 11650</td>\n",
       "    </tr>\n",
       "  </tbody>\n",
       "</table>\n",
       "</div>"
      ],
      "text/plain": [
       "   loan_amnt        term  int_rate  installment grade sub_grade                emp_title emp_length home_ownership  annual_inc verification_status   issue_d  loan_status             purpose                    title    dti earliest_cr_line  open_acc  pub_rec  revol_bal  revol_util  total_acc initial_list_status application_type  mort_acc  pub_rec_bankruptcies                                          address\n",
       "0  10000.000   36 months    11.440      329.480     B        B4                Marketing  10+ years           RENT  117000.000        Not Verified  Jan-2015   Fully Paid            vacation                 Vacation 26.240         Jun-1990    16.000    0.000  36369.000      41.800     25.000                   w       INDIVIDUAL     0.000                 0.000     0174 Michelle Gateway\\nMendozaberg, OK 22690\n",
       "1   8000.000   36 months    11.990      265.680     B        B5          Credit analyst     4 years       MORTGAGE   65000.000        Not Verified  Jan-2015   Fully Paid  debt_consolidation       Debt consolidation 22.050         Jul-2004    17.000    0.000  20131.000      53.300     27.000                   f       INDIVIDUAL     3.000                 0.000  1076 Carney Fort Apt. 347\\nLoganmouth, SD 05113\n",
       "2  15600.000   36 months    10.490      506.970     B        B3             Statistician   < 1 year           RENT   43057.000     Source Verified  Jan-2015   Fully Paid         credit_card  Credit card refinancing 12.790         Aug-2007    13.000    0.000  11987.000      92.200     26.000                   f       INDIVIDUAL     0.000                 0.000  87025 Mark Dale Apt. 269\\nNew Sabrina, WV 05113\n",
       "3   7200.000   36 months     6.490      220.650     A        A2          Client Advocate    6 years           RENT   54000.000        Not Verified  Nov-2014   Fully Paid         credit_card  Credit card refinancing  2.600         Sep-2006     6.000    0.000   5472.000      21.500     13.000                   f       INDIVIDUAL     0.000                 0.000            823 Reid Ford\\nDelacruzside, MA 00813\n",
       "4  24375.000   60 months    17.270      609.330     C        C5  Destiny Management Inc.    9 years       MORTGAGE   55000.000            Verified  Apr-2013  Charged Off         credit_card    Credit Card Refinance 33.950         Mar-1999    13.000    0.000  24584.000      69.800     43.000                   f       INDIVIDUAL     1.000                 0.000             679 Luna Roads\\nGreggshire, VA 11650"
      ]
     },
     "execution_count": 3,
     "metadata": {},
     "output_type": "execute_result"
    }
   ],
   "source": [
    "df.head()"
   ]
  },
  {
   "cell_type": "code",
   "execution_count": 30,
   "metadata": {},
   "outputs": [
    {
     "data": {
      "text/plain": [
       "(396030, 27)"
      ]
     },
     "execution_count": 30,
     "metadata": {},
     "output_type": "execute_result"
    }
   ],
   "source": [
    "df.shape"
   ]
  },
  {
   "cell_type": "markdown",
   "metadata": {},
   "source": [
    "### 3.1.2. Descriptive Statisitc"
   ]
  },
  {
   "cell_type": "code",
   "execution_count": 4,
   "metadata": {},
   "outputs": [
    {
     "data": {
      "text/html": [
       "<div>\n",
       "<style scoped>\n",
       "    .dataframe tbody tr th:only-of-type {\n",
       "        vertical-align: middle;\n",
       "    }\n",
       "\n",
       "    .dataframe tbody tr th {\n",
       "        vertical-align: top;\n",
       "    }\n",
       "\n",
       "    .dataframe thead th {\n",
       "        text-align: right;\n",
       "    }\n",
       "</style>\n",
       "<table border=\"1\" class=\"dataframe\">\n",
       "  <thead>\n",
       "    <tr style=\"text-align: right;\">\n",
       "      <th></th>\n",
       "      <th>count</th>\n",
       "      <th>unique</th>\n",
       "      <th>top</th>\n",
       "      <th>freq</th>\n",
       "      <th>mean</th>\n",
       "      <th>std</th>\n",
       "      <th>min</th>\n",
       "      <th>25%</th>\n",
       "      <th>50%</th>\n",
       "      <th>75%</th>\n",
       "      <th>max</th>\n",
       "    </tr>\n",
       "  </thead>\n",
       "  <tbody>\n",
       "    <tr>\n",
       "      <th>loan_amnt</th>\n",
       "      <td>396030.000</td>\n",
       "      <td>NaN</td>\n",
       "      <td>NaN</td>\n",
       "      <td>NaN</td>\n",
       "      <td>14113.888</td>\n",
       "      <td>8357.441</td>\n",
       "      <td>500.000</td>\n",
       "      <td>8000.000</td>\n",
       "      <td>12000.000</td>\n",
       "      <td>20000.000</td>\n",
       "      <td>40000.000</td>\n",
       "    </tr>\n",
       "    <tr>\n",
       "      <th>term</th>\n",
       "      <td>396030</td>\n",
       "      <td>2</td>\n",
       "      <td>36 months</td>\n",
       "      <td>302005</td>\n",
       "      <td>NaN</td>\n",
       "      <td>NaN</td>\n",
       "      <td>NaN</td>\n",
       "      <td>NaN</td>\n",
       "      <td>NaN</td>\n",
       "      <td>NaN</td>\n",
       "      <td>NaN</td>\n",
       "    </tr>\n",
       "    <tr>\n",
       "      <th>int_rate</th>\n",
       "      <td>396030.000</td>\n",
       "      <td>NaN</td>\n",
       "      <td>NaN</td>\n",
       "      <td>NaN</td>\n",
       "      <td>13.639</td>\n",
       "      <td>4.472</td>\n",
       "      <td>5.320</td>\n",
       "      <td>10.490</td>\n",
       "      <td>13.330</td>\n",
       "      <td>16.490</td>\n",
       "      <td>30.990</td>\n",
       "    </tr>\n",
       "    <tr>\n",
       "      <th>installment</th>\n",
       "      <td>396030.000</td>\n",
       "      <td>NaN</td>\n",
       "      <td>NaN</td>\n",
       "      <td>NaN</td>\n",
       "      <td>431.850</td>\n",
       "      <td>250.728</td>\n",
       "      <td>16.080</td>\n",
       "      <td>250.330</td>\n",
       "      <td>375.430</td>\n",
       "      <td>567.300</td>\n",
       "      <td>1533.810</td>\n",
       "    </tr>\n",
       "    <tr>\n",
       "      <th>grade</th>\n",
       "      <td>396030</td>\n",
       "      <td>7</td>\n",
       "      <td>B</td>\n",
       "      <td>116018</td>\n",
       "      <td>NaN</td>\n",
       "      <td>NaN</td>\n",
       "      <td>NaN</td>\n",
       "      <td>NaN</td>\n",
       "      <td>NaN</td>\n",
       "      <td>NaN</td>\n",
       "      <td>NaN</td>\n",
       "    </tr>\n",
       "    <tr>\n",
       "      <th>sub_grade</th>\n",
       "      <td>396030</td>\n",
       "      <td>35</td>\n",
       "      <td>B3</td>\n",
       "      <td>26655</td>\n",
       "      <td>NaN</td>\n",
       "      <td>NaN</td>\n",
       "      <td>NaN</td>\n",
       "      <td>NaN</td>\n",
       "      <td>NaN</td>\n",
       "      <td>NaN</td>\n",
       "      <td>NaN</td>\n",
       "    </tr>\n",
       "    <tr>\n",
       "      <th>emp_title</th>\n",
       "      <td>373103</td>\n",
       "      <td>173105</td>\n",
       "      <td>Teacher</td>\n",
       "      <td>4389</td>\n",
       "      <td>NaN</td>\n",
       "      <td>NaN</td>\n",
       "      <td>NaN</td>\n",
       "      <td>NaN</td>\n",
       "      <td>NaN</td>\n",
       "      <td>NaN</td>\n",
       "      <td>NaN</td>\n",
       "    </tr>\n",
       "    <tr>\n",
       "      <th>emp_length</th>\n",
       "      <td>377729</td>\n",
       "      <td>11</td>\n",
       "      <td>10+ years</td>\n",
       "      <td>126041</td>\n",
       "      <td>NaN</td>\n",
       "      <td>NaN</td>\n",
       "      <td>NaN</td>\n",
       "      <td>NaN</td>\n",
       "      <td>NaN</td>\n",
       "      <td>NaN</td>\n",
       "      <td>NaN</td>\n",
       "    </tr>\n",
       "    <tr>\n",
       "      <th>home_ownership</th>\n",
       "      <td>396030</td>\n",
       "      <td>6</td>\n",
       "      <td>MORTGAGE</td>\n",
       "      <td>198348</td>\n",
       "      <td>NaN</td>\n",
       "      <td>NaN</td>\n",
       "      <td>NaN</td>\n",
       "      <td>NaN</td>\n",
       "      <td>NaN</td>\n",
       "      <td>NaN</td>\n",
       "      <td>NaN</td>\n",
       "    </tr>\n",
       "    <tr>\n",
       "      <th>annual_inc</th>\n",
       "      <td>396030.000</td>\n",
       "      <td>NaN</td>\n",
       "      <td>NaN</td>\n",
       "      <td>NaN</td>\n",
       "      <td>74203.176</td>\n",
       "      <td>61637.621</td>\n",
       "      <td>0.000</td>\n",
       "      <td>45000.000</td>\n",
       "      <td>64000.000</td>\n",
       "      <td>90000.000</td>\n",
       "      <td>8706582.000</td>\n",
       "    </tr>\n",
       "    <tr>\n",
       "      <th>verification_status</th>\n",
       "      <td>396030</td>\n",
       "      <td>3</td>\n",
       "      <td>Verified</td>\n",
       "      <td>139563</td>\n",
       "      <td>NaN</td>\n",
       "      <td>NaN</td>\n",
       "      <td>NaN</td>\n",
       "      <td>NaN</td>\n",
       "      <td>NaN</td>\n",
       "      <td>NaN</td>\n",
       "      <td>NaN</td>\n",
       "    </tr>\n",
       "    <tr>\n",
       "      <th>issue_d</th>\n",
       "      <td>396030</td>\n",
       "      <td>115</td>\n",
       "      <td>Oct-2014</td>\n",
       "      <td>14846</td>\n",
       "      <td>NaN</td>\n",
       "      <td>NaN</td>\n",
       "      <td>NaN</td>\n",
       "      <td>NaN</td>\n",
       "      <td>NaN</td>\n",
       "      <td>NaN</td>\n",
       "      <td>NaN</td>\n",
       "    </tr>\n",
       "    <tr>\n",
       "      <th>loan_status</th>\n",
       "      <td>396030</td>\n",
       "      <td>2</td>\n",
       "      <td>Fully Paid</td>\n",
       "      <td>318357</td>\n",
       "      <td>NaN</td>\n",
       "      <td>NaN</td>\n",
       "      <td>NaN</td>\n",
       "      <td>NaN</td>\n",
       "      <td>NaN</td>\n",
       "      <td>NaN</td>\n",
       "      <td>NaN</td>\n",
       "    </tr>\n",
       "    <tr>\n",
       "      <th>purpose</th>\n",
       "      <td>396030</td>\n",
       "      <td>14</td>\n",
       "      <td>debt_consolidation</td>\n",
       "      <td>234507</td>\n",
       "      <td>NaN</td>\n",
       "      <td>NaN</td>\n",
       "      <td>NaN</td>\n",
       "      <td>NaN</td>\n",
       "      <td>NaN</td>\n",
       "      <td>NaN</td>\n",
       "      <td>NaN</td>\n",
       "    </tr>\n",
       "    <tr>\n",
       "      <th>title</th>\n",
       "      <td>394275</td>\n",
       "      <td>48817</td>\n",
       "      <td>Debt consolidation</td>\n",
       "      <td>152472</td>\n",
       "      <td>NaN</td>\n",
       "      <td>NaN</td>\n",
       "      <td>NaN</td>\n",
       "      <td>NaN</td>\n",
       "      <td>NaN</td>\n",
       "      <td>NaN</td>\n",
       "      <td>NaN</td>\n",
       "    </tr>\n",
       "    <tr>\n",
       "      <th>dti</th>\n",
       "      <td>396030.000</td>\n",
       "      <td>NaN</td>\n",
       "      <td>NaN</td>\n",
       "      <td>NaN</td>\n",
       "      <td>17.380</td>\n",
       "      <td>18.019</td>\n",
       "      <td>0.000</td>\n",
       "      <td>11.280</td>\n",
       "      <td>16.910</td>\n",
       "      <td>22.980</td>\n",
       "      <td>9999.000</td>\n",
       "    </tr>\n",
       "    <tr>\n",
       "      <th>earliest_cr_line</th>\n",
       "      <td>396030</td>\n",
       "      <td>684</td>\n",
       "      <td>Oct-2000</td>\n",
       "      <td>3017</td>\n",
       "      <td>NaN</td>\n",
       "      <td>NaN</td>\n",
       "      <td>NaN</td>\n",
       "      <td>NaN</td>\n",
       "      <td>NaN</td>\n",
       "      <td>NaN</td>\n",
       "      <td>NaN</td>\n",
       "    </tr>\n",
       "    <tr>\n",
       "      <th>open_acc</th>\n",
       "      <td>396030.000</td>\n",
       "      <td>NaN</td>\n",
       "      <td>NaN</td>\n",
       "      <td>NaN</td>\n",
       "      <td>11.311</td>\n",
       "      <td>5.138</td>\n",
       "      <td>0.000</td>\n",
       "      <td>8.000</td>\n",
       "      <td>10.000</td>\n",
       "      <td>14.000</td>\n",
       "      <td>90.000</td>\n",
       "    </tr>\n",
       "    <tr>\n",
       "      <th>pub_rec</th>\n",
       "      <td>396030.000</td>\n",
       "      <td>NaN</td>\n",
       "      <td>NaN</td>\n",
       "      <td>NaN</td>\n",
       "      <td>0.178</td>\n",
       "      <td>0.531</td>\n",
       "      <td>0.000</td>\n",
       "      <td>0.000</td>\n",
       "      <td>0.000</td>\n",
       "      <td>0.000</td>\n",
       "      <td>86.000</td>\n",
       "    </tr>\n",
       "    <tr>\n",
       "      <th>revol_bal</th>\n",
       "      <td>396030.000</td>\n",
       "      <td>NaN</td>\n",
       "      <td>NaN</td>\n",
       "      <td>NaN</td>\n",
       "      <td>15844.540</td>\n",
       "      <td>20591.836</td>\n",
       "      <td>0.000</td>\n",
       "      <td>6025.000</td>\n",
       "      <td>11181.000</td>\n",
       "      <td>19620.000</td>\n",
       "      <td>1743266.000</td>\n",
       "    </tr>\n",
       "    <tr>\n",
       "      <th>revol_util</th>\n",
       "      <td>395754.000</td>\n",
       "      <td>NaN</td>\n",
       "      <td>NaN</td>\n",
       "      <td>NaN</td>\n",
       "      <td>53.792</td>\n",
       "      <td>24.452</td>\n",
       "      <td>0.000</td>\n",
       "      <td>35.800</td>\n",
       "      <td>54.800</td>\n",
       "      <td>72.900</td>\n",
       "      <td>892.300</td>\n",
       "    </tr>\n",
       "    <tr>\n",
       "      <th>total_acc</th>\n",
       "      <td>396030.000</td>\n",
       "      <td>NaN</td>\n",
       "      <td>NaN</td>\n",
       "      <td>NaN</td>\n",
       "      <td>25.415</td>\n",
       "      <td>11.887</td>\n",
       "      <td>2.000</td>\n",
       "      <td>17.000</td>\n",
       "      <td>24.000</td>\n",
       "      <td>32.000</td>\n",
       "      <td>151.000</td>\n",
       "    </tr>\n",
       "    <tr>\n",
       "      <th>initial_list_status</th>\n",
       "      <td>396030</td>\n",
       "      <td>2</td>\n",
       "      <td>f</td>\n",
       "      <td>238066</td>\n",
       "      <td>NaN</td>\n",
       "      <td>NaN</td>\n",
       "      <td>NaN</td>\n",
       "      <td>NaN</td>\n",
       "      <td>NaN</td>\n",
       "      <td>NaN</td>\n",
       "      <td>NaN</td>\n",
       "    </tr>\n",
       "    <tr>\n",
       "      <th>application_type</th>\n",
       "      <td>396030</td>\n",
       "      <td>3</td>\n",
       "      <td>INDIVIDUAL</td>\n",
       "      <td>395319</td>\n",
       "      <td>NaN</td>\n",
       "      <td>NaN</td>\n",
       "      <td>NaN</td>\n",
       "      <td>NaN</td>\n",
       "      <td>NaN</td>\n",
       "      <td>NaN</td>\n",
       "      <td>NaN</td>\n",
       "    </tr>\n",
       "    <tr>\n",
       "      <th>mort_acc</th>\n",
       "      <td>358235.000</td>\n",
       "      <td>NaN</td>\n",
       "      <td>NaN</td>\n",
       "      <td>NaN</td>\n",
       "      <td>1.814</td>\n",
       "      <td>2.148</td>\n",
       "      <td>0.000</td>\n",
       "      <td>0.000</td>\n",
       "      <td>1.000</td>\n",
       "      <td>3.000</td>\n",
       "      <td>34.000</td>\n",
       "    </tr>\n",
       "    <tr>\n",
       "      <th>pub_rec_bankruptcies</th>\n",
       "      <td>395495.000</td>\n",
       "      <td>NaN</td>\n",
       "      <td>NaN</td>\n",
       "      <td>NaN</td>\n",
       "      <td>0.122</td>\n",
       "      <td>0.356</td>\n",
       "      <td>0.000</td>\n",
       "      <td>0.000</td>\n",
       "      <td>0.000</td>\n",
       "      <td>0.000</td>\n",
       "      <td>8.000</td>\n",
       "    </tr>\n",
       "    <tr>\n",
       "      <th>address</th>\n",
       "      <td>396030</td>\n",
       "      <td>393700</td>\n",
       "      <td>USS Smith\\nFPO AP 70466</td>\n",
       "      <td>8</td>\n",
       "      <td>NaN</td>\n",
       "      <td>NaN</td>\n",
       "      <td>NaN</td>\n",
       "      <td>NaN</td>\n",
       "      <td>NaN</td>\n",
       "      <td>NaN</td>\n",
       "      <td>NaN</td>\n",
       "    </tr>\n",
       "  </tbody>\n",
       "</table>\n",
       "</div>"
      ],
      "text/plain": [
       "                          count  unique                      top    freq      mean       std     min       25%       50%       75%         max\n",
       "loan_amnt            396030.000     NaN                      NaN     NaN 14113.888  8357.441 500.000  8000.000 12000.000 20000.000   40000.000\n",
       "term                     396030       2                36 months  302005       NaN       NaN     NaN       NaN       NaN       NaN         NaN\n",
       "int_rate             396030.000     NaN                      NaN     NaN    13.639     4.472   5.320    10.490    13.330    16.490      30.990\n",
       "installment          396030.000     NaN                      NaN     NaN   431.850   250.728  16.080   250.330   375.430   567.300    1533.810\n",
       "grade                    396030       7                        B  116018       NaN       NaN     NaN       NaN       NaN       NaN         NaN\n",
       "sub_grade                396030      35                       B3   26655       NaN       NaN     NaN       NaN       NaN       NaN         NaN\n",
       "emp_title                373103  173105                  Teacher    4389       NaN       NaN     NaN       NaN       NaN       NaN         NaN\n",
       "emp_length               377729      11                10+ years  126041       NaN       NaN     NaN       NaN       NaN       NaN         NaN\n",
       "home_ownership           396030       6                 MORTGAGE  198348       NaN       NaN     NaN       NaN       NaN       NaN         NaN\n",
       "annual_inc           396030.000     NaN                      NaN     NaN 74203.176 61637.621   0.000 45000.000 64000.000 90000.000 8706582.000\n",
       "verification_status      396030       3                 Verified  139563       NaN       NaN     NaN       NaN       NaN       NaN         NaN\n",
       "issue_d                  396030     115                 Oct-2014   14846       NaN       NaN     NaN       NaN       NaN       NaN         NaN\n",
       "loan_status              396030       2               Fully Paid  318357       NaN       NaN     NaN       NaN       NaN       NaN         NaN\n",
       "purpose                  396030      14       debt_consolidation  234507       NaN       NaN     NaN       NaN       NaN       NaN         NaN\n",
       "title                    394275   48817       Debt consolidation  152472       NaN       NaN     NaN       NaN       NaN       NaN         NaN\n",
       "dti                  396030.000     NaN                      NaN     NaN    17.380    18.019   0.000    11.280    16.910    22.980    9999.000\n",
       "earliest_cr_line         396030     684                 Oct-2000    3017       NaN       NaN     NaN       NaN       NaN       NaN         NaN\n",
       "open_acc             396030.000     NaN                      NaN     NaN    11.311     5.138   0.000     8.000    10.000    14.000      90.000\n",
       "pub_rec              396030.000     NaN                      NaN     NaN     0.178     0.531   0.000     0.000     0.000     0.000      86.000\n",
       "revol_bal            396030.000     NaN                      NaN     NaN 15844.540 20591.836   0.000  6025.000 11181.000 19620.000 1743266.000\n",
       "revol_util           395754.000     NaN                      NaN     NaN    53.792    24.452   0.000    35.800    54.800    72.900     892.300\n",
       "total_acc            396030.000     NaN                      NaN     NaN    25.415    11.887   2.000    17.000    24.000    32.000     151.000\n",
       "initial_list_status      396030       2                        f  238066       NaN       NaN     NaN       NaN       NaN       NaN         NaN\n",
       "application_type         396030       3               INDIVIDUAL  395319       NaN       NaN     NaN       NaN       NaN       NaN         NaN\n",
       "mort_acc             358235.000     NaN                      NaN     NaN     1.814     2.148   0.000     0.000     1.000     3.000      34.000\n",
       "pub_rec_bankruptcies 395495.000     NaN                      NaN     NaN     0.122     0.356   0.000     0.000     0.000     0.000       8.000\n",
       "address                  396030  393700  USS Smith\\nFPO AP 70466       8       NaN       NaN     NaN       NaN       NaN       NaN         NaN"
      ]
     },
     "execution_count": 4,
     "metadata": {},
     "output_type": "execute_result"
    }
   ],
   "source": [
    "df.describe(include='all').T"
   ]
  },
  {
   "cell_type": "markdown",
   "metadata": {},
   "source": [
    "## 3.2. Examining types of variables"
   ]
  },
  {
   "cell_type": "markdown",
   "metadata": {},
   "source": [
    "### 3.2.1. Inspect types of variables"
   ]
  },
  {
   "cell_type": "code",
   "execution_count": 5,
   "metadata": {},
   "outputs": [
    {
     "data": {
      "text/plain": [
       "loan_amnt               float64\n",
       "term                     object\n",
       "int_rate                float64\n",
       "installment             float64\n",
       "grade                    object\n",
       "sub_grade                object\n",
       "emp_title                object\n",
       "emp_length               object\n",
       "home_ownership           object\n",
       "annual_inc              float64\n",
       "verification_status      object\n",
       "issue_d                  object\n",
       "loan_status              object\n",
       "purpose                  object\n",
       "title                    object\n",
       "dti                     float64\n",
       "earliest_cr_line         object\n",
       "open_acc                float64\n",
       "pub_rec                 float64\n",
       "revol_bal               float64\n",
       "revol_util              float64\n",
       "total_acc               float64\n",
       "initial_list_status      object\n",
       "application_type         object\n",
       "mort_acc                float64\n",
       "pub_rec_bankruptcies    float64\n",
       "address                  object\n",
       "dtype: object"
      ]
     },
     "execution_count": 5,
     "metadata": {},
     "output_type": "execute_result"
    }
   ],
   "source": [
    "df.dtypes"
   ]
  },
  {
   "cell_type": "markdown",
   "metadata": {},
   "source": [
    "There are a mixture of categorical and numerical variables. Numerical are those of type int and float. Categorical those of type object.\n",
    "+ Numerical vars may include: continous vars, discrete vars, sequence nunber (Id), or wrong format of categorical vars \n",
    "+ Categorical vars may include: text vars, datetime vars, or wrong format of numeric vars \n",
    "\n",
    "At this step, need to categorize to types of vars and have closer examination for problems they may have and clean data approriately"
   ]
  },
  {
   "cell_type": "markdown",
   "metadata": {},
   "source": [
    "### 3.2.2. Categorize feature types"
   ]
  },
  {
   "cell_type": "code",
   "execution_count": 6,
   "metadata": {
    "scrolled": false
   },
   "outputs": [
    {
     "name": "stdout",
     "output_type": "stream",
     "text": [
      "\n",
      "Target var:  ['loan_status']\n",
      "\n",
      "Categorical vars:  ['term', 'grade', 'sub_grade', 'emp_title', 'emp_length', 'home_ownership', 'verification_status', 'issue_d', 'purpose', 'title', 'earliest_cr_line', 'initial_list_status', 'application_type', 'address']\n",
      "There are 14 categorical variables\n",
      "\n",
      "Numerical vars:  ['loan_amnt', 'int_rate', 'installment', 'annual_inc', 'dti', 'open_acc', 'pub_rec', 'revol_bal', 'revol_util', 'total_acc', 'mort_acc', 'pub_rec_bankruptcies']\n",
      "There are 12 numerical variables\n",
      "\n",
      "Discrete vars:  ['pub_rec', 'pub_rec_bankruptcies']\n",
      "There are 2 numerical variables\n",
      "\n",
      "Continous vars:  ['loan_amnt', 'int_rate', 'installment', 'annual_inc', 'dti', 'open_acc', 'revol_bal', 'revol_util', 'total_acc', 'mort_acc']\n",
      "There are 10 numerical variables\n"
     ]
    }
   ],
   "source": [
    "## target\n",
    "target = ['loan_status']\n",
    "print(\"\\nTarget var: \", target)\n",
    "\n",
    "## cat vars\n",
    "cat_vars = [var for var in df.columns if df[var].dtypes == 'O' if var not in target]\n",
    "print(\"\\nCategorical vars: \", cat_vars)\n",
    "print('There are {} categorical variables'.format(len(cat_vars)))\n",
    "\n",
    "num_vars = [var for var in df.columns if df[var].dtypes != 'O' if var not in target]\n",
    "print(\"\\nNumerical vars: \", num_vars)\n",
    "print('There are {} numerical variables'.format(len(num_vars)))\n",
    "\n",
    "dis_vars = [var for var in num_vars if len(df[var].unique()) < 30]\n",
    "print(\"\\nDiscrete vars: \", dis_vars)\n",
    "print('There are {} numerical variables'.format(len(dis_vars)))\n",
    "\n",
    "cont_vars = [var for var in num_vars if var not in dis_vars]\n",
    "print(\"\\nContinous vars: \", cont_vars)\n",
    "print('There are {} numerical variables'.format(len(cont_vars)))"
   ]
  },
  {
   "cell_type": "markdown",
   "metadata": {},
   "source": [
    "### 3.2.3. Target var"
   ]
  },
  {
   "cell_type": "markdown",
   "metadata": {},
   "source": [
    "#### Check if there is row with missing labels or incorrect labels"
   ]
  },
  {
   "cell_type": "code",
   "execution_count": 7,
   "metadata": {
    "scrolled": true
   },
   "outputs": [
    {
     "data": {
      "text/html": [
       "<div>\n",
       "<style scoped>\n",
       "    .dataframe tbody tr th:only-of-type {\n",
       "        vertical-align: middle;\n",
       "    }\n",
       "\n",
       "    .dataframe tbody tr th {\n",
       "        vertical-align: top;\n",
       "    }\n",
       "\n",
       "    .dataframe thead th {\n",
       "        text-align: right;\n",
       "    }\n",
       "</style>\n",
       "<table border=\"1\" class=\"dataframe\">\n",
       "  <thead>\n",
       "    <tr style=\"text-align: right;\">\n",
       "      <th></th>\n",
       "      <th>loan_status</th>\n",
       "    </tr>\n",
       "  </thead>\n",
       "  <tbody>\n",
       "    <tr>\n",
       "      <th>count</th>\n",
       "      <td>396030</td>\n",
       "    </tr>\n",
       "    <tr>\n",
       "      <th>unique</th>\n",
       "      <td>2</td>\n",
       "    </tr>\n",
       "    <tr>\n",
       "      <th>top</th>\n",
       "      <td>Fully Paid</td>\n",
       "    </tr>\n",
       "    <tr>\n",
       "      <th>freq</th>\n",
       "      <td>318357</td>\n",
       "    </tr>\n",
       "  </tbody>\n",
       "</table>\n",
       "</div>"
      ],
      "text/plain": [
       "       loan_status\n",
       "count       396030\n",
       "unique           2\n",
       "top     Fully Paid\n",
       "freq        318357"
      ]
     },
     "execution_count": 7,
     "metadata": {},
     "output_type": "execute_result"
    }
   ],
   "source": [
    "df[target].describe()"
   ]
  },
  {
   "cell_type": "code",
   "execution_count": 8,
   "metadata": {},
   "outputs": [
    {
     "data": {
      "text/plain": [
       "Fully Paid    0.804\n",
       "Charged Off   0.196\n",
       "Name: loan_status, dtype: float64"
      ]
     },
     "execution_count": 8,
     "metadata": {},
     "output_type": "execute_result"
    }
   ],
   "source": [
    "df['loan_status'].value_counts()/len(df['loan_status'])"
   ]
  },
  {
   "cell_type": "markdown",
   "metadata": {},
   "source": [
    "**Summary**: \n",
    "+ Imbalanced data between 2 classes"
   ]
  },
  {
   "cell_type": "markdown",
   "metadata": {},
   "source": [
    "### 3.2.4. Categorical vars"
   ]
  },
  {
   "cell_type": "markdown",
   "metadata": {},
   "source": [
    "#### View of categorical variables"
   ]
  },
  {
   "cell_type": "code",
   "execution_count": 9,
   "metadata": {},
   "outputs": [
    {
     "data": {
      "text/html": [
       "<div>\n",
       "<style scoped>\n",
       "    .dataframe tbody tr th:only-of-type {\n",
       "        vertical-align: middle;\n",
       "    }\n",
       "\n",
       "    .dataframe tbody tr th {\n",
       "        vertical-align: top;\n",
       "    }\n",
       "\n",
       "    .dataframe thead th {\n",
       "        text-align: right;\n",
       "    }\n",
       "</style>\n",
       "<table border=\"1\" class=\"dataframe\">\n",
       "  <thead>\n",
       "    <tr style=\"text-align: right;\">\n",
       "      <th></th>\n",
       "      <th>term</th>\n",
       "      <th>grade</th>\n",
       "      <th>sub_grade</th>\n",
       "      <th>emp_title</th>\n",
       "      <th>emp_length</th>\n",
       "      <th>home_ownership</th>\n",
       "      <th>verification_status</th>\n",
       "      <th>issue_d</th>\n",
       "      <th>purpose</th>\n",
       "      <th>title</th>\n",
       "      <th>earliest_cr_line</th>\n",
       "      <th>initial_list_status</th>\n",
       "      <th>application_type</th>\n",
       "      <th>address</th>\n",
       "    </tr>\n",
       "  </thead>\n",
       "  <tbody>\n",
       "    <tr>\n",
       "      <th>0</th>\n",
       "      <td>36 months</td>\n",
       "      <td>B</td>\n",
       "      <td>B4</td>\n",
       "      <td>Marketing</td>\n",
       "      <td>10+ years</td>\n",
       "      <td>RENT</td>\n",
       "      <td>Not Verified</td>\n",
       "      <td>Jan-2015</td>\n",
       "      <td>vacation</td>\n",
       "      <td>Vacation</td>\n",
       "      <td>Jun-1990</td>\n",
       "      <td>w</td>\n",
       "      <td>INDIVIDUAL</td>\n",
       "      <td>0174 Michelle Gateway\\nMendozaberg, OK 22690</td>\n",
       "    </tr>\n",
       "    <tr>\n",
       "      <th>1</th>\n",
       "      <td>36 months</td>\n",
       "      <td>B</td>\n",
       "      <td>B5</td>\n",
       "      <td>Credit analyst</td>\n",
       "      <td>4 years</td>\n",
       "      <td>MORTGAGE</td>\n",
       "      <td>Not Verified</td>\n",
       "      <td>Jan-2015</td>\n",
       "      <td>debt_consolidation</td>\n",
       "      <td>Debt consolidation</td>\n",
       "      <td>Jul-2004</td>\n",
       "      <td>f</td>\n",
       "      <td>INDIVIDUAL</td>\n",
       "      <td>1076 Carney Fort Apt. 347\\nLoganmouth, SD 05113</td>\n",
       "    </tr>\n",
       "    <tr>\n",
       "      <th>2</th>\n",
       "      <td>36 months</td>\n",
       "      <td>B</td>\n",
       "      <td>B3</td>\n",
       "      <td>Statistician</td>\n",
       "      <td>&lt; 1 year</td>\n",
       "      <td>RENT</td>\n",
       "      <td>Source Verified</td>\n",
       "      <td>Jan-2015</td>\n",
       "      <td>credit_card</td>\n",
       "      <td>Credit card refinancing</td>\n",
       "      <td>Aug-2007</td>\n",
       "      <td>f</td>\n",
       "      <td>INDIVIDUAL</td>\n",
       "      <td>87025 Mark Dale Apt. 269\\nNew Sabrina, WV 05113</td>\n",
       "    </tr>\n",
       "    <tr>\n",
       "      <th>3</th>\n",
       "      <td>36 months</td>\n",
       "      <td>A</td>\n",
       "      <td>A2</td>\n",
       "      <td>Client Advocate</td>\n",
       "      <td>6 years</td>\n",
       "      <td>RENT</td>\n",
       "      <td>Not Verified</td>\n",
       "      <td>Nov-2014</td>\n",
       "      <td>credit_card</td>\n",
       "      <td>Credit card refinancing</td>\n",
       "      <td>Sep-2006</td>\n",
       "      <td>f</td>\n",
       "      <td>INDIVIDUAL</td>\n",
       "      <td>823 Reid Ford\\nDelacruzside, MA 00813</td>\n",
       "    </tr>\n",
       "    <tr>\n",
       "      <th>4</th>\n",
       "      <td>60 months</td>\n",
       "      <td>C</td>\n",
       "      <td>C5</td>\n",
       "      <td>Destiny Management Inc.</td>\n",
       "      <td>9 years</td>\n",
       "      <td>MORTGAGE</td>\n",
       "      <td>Verified</td>\n",
       "      <td>Apr-2013</td>\n",
       "      <td>credit_card</td>\n",
       "      <td>Credit Card Refinance</td>\n",
       "      <td>Mar-1999</td>\n",
       "      <td>f</td>\n",
       "      <td>INDIVIDUAL</td>\n",
       "      <td>679 Luna Roads\\nGreggshire, VA 11650</td>\n",
       "    </tr>\n",
       "  </tbody>\n",
       "</table>\n",
       "</div>"
      ],
      "text/plain": [
       "         term grade sub_grade                emp_title emp_length home_ownership verification_status   issue_d             purpose                    title earliest_cr_line initial_list_status application_type                                          address\n",
       "0   36 months     B        B4                Marketing  10+ years           RENT        Not Verified  Jan-2015            vacation                 Vacation         Jun-1990                   w       INDIVIDUAL     0174 Michelle Gateway\\nMendozaberg, OK 22690\n",
       "1   36 months     B        B5          Credit analyst     4 years       MORTGAGE        Not Verified  Jan-2015  debt_consolidation       Debt consolidation         Jul-2004                   f       INDIVIDUAL  1076 Carney Fort Apt. 347\\nLoganmouth, SD 05113\n",
       "2   36 months     B        B3             Statistician   < 1 year           RENT     Source Verified  Jan-2015         credit_card  Credit card refinancing         Aug-2007                   f       INDIVIDUAL  87025 Mark Dale Apt. 269\\nNew Sabrina, WV 05113\n",
       "3   36 months     A        A2          Client Advocate    6 years           RENT        Not Verified  Nov-2014         credit_card  Credit card refinancing         Sep-2006                   f       INDIVIDUAL            823 Reid Ford\\nDelacruzside, MA 00813\n",
       "4   60 months     C        C5  Destiny Management Inc.    9 years       MORTGAGE            Verified  Apr-2013         credit_card    Credit Card Refinance         Mar-1999                   f       INDIVIDUAL             679 Luna Roads\\nGreggshire, VA 11650"
      ]
     },
     "execution_count": 9,
     "metadata": {},
     "output_type": "execute_result"
    }
   ],
   "source": [
    "cat_vars = [var for var in df.columns if df[var].dtypes == 'O' if var not in target]\n",
    "df[cat_vars].head()"
   ]
  },
  {
   "cell_type": "markdown",
   "metadata": {},
   "source": [
    "#### Ordinal vars\n",
    "+ term, grade, sub_grade, emp_length: ordinal vars, should be converted to numeric vars"
   ]
  },
  {
   "cell_type": "markdown",
   "metadata": {},
   "source": [
    "#### Date Time vars\n",
    "+ issue_d, earliest_cr_line:should be converted to datetime"
   ]
  },
  {
   "cell_type": "markdown",
   "metadata": {},
   "source": [
    "**Mixed type of variables**: \n",
    "+ address (value contains both numbers and letters): We could extract the numerical part and then the non-numerical part and generate 2 variables out of them, to see if that adds value to our predictive models."
   ]
  },
  {
   "cell_type": "markdown",
   "metadata": {},
   "source": [
    "#### Inspect cardinality: number of labels\n",
    "+ tittle, address, emp_title: they contain a lot of labels. In addition, those variables are not usable as such, and they require some mannual preprocessing. "
   ]
  },
  {
   "cell_type": "code",
   "execution_count": 10,
   "metadata": {},
   "outputs": [
    {
     "name": "stdout",
     "output_type": "stream",
     "text": [
      "term  contains  2  labels\n",
      "grade  contains  7  labels\n",
      "sub_grade  contains  35  labels\n",
      "emp_title  contains  173106  labels\n",
      "emp_length  contains  12  labels\n",
      "home_ownership  contains  6  labels\n",
      "verification_status  contains  3  labels\n",
      "issue_d  contains  115  labels\n",
      "purpose  contains  14  labels\n",
      "title  contains  48818  labels\n",
      "earliest_cr_line  contains  684  labels\n",
      "initial_list_status  contains  2  labels\n",
      "application_type  contains  3  labels\n",
      "address  contains  393700  labels\n"
     ]
    }
   ],
   "source": [
    "for var in cat_vars:\n",
    "    print(var, ' contains ', len(df[var].unique()), ' labels')"
   ]
  },
  {
   "cell_type": "markdown",
   "metadata": {},
   "source": [
    "#### Inspect rare labels\n",
    "\n",
    "+ ***grade, sub_grade, home_ownership, purpose, application_type***: Contains the rare labels \n",
    "\n",
    "+ ***term***: does not contain rare labels"
   ]
  },
  {
   "cell_type": "code",
   "execution_count": 11,
   "metadata": {
    "scrolled": true
   },
   "outputs": [
    {
     "name": "stdout",
     "output_type": "stream",
     "text": [
      " 36 months   0.763\n",
      " 60 months   0.237\n",
      "Name: term, dtype: float64\n",
      "\n",
      "B   0.293\n",
      "C   0.268\n",
      "A   0.162\n",
      "D   0.160\n",
      "E   0.080\n",
      "F   0.030\n",
      "G   0.008\n",
      "Name: grade, dtype: float64\n",
      "\n",
      "B3   0.067\n",
      "B4   0.065\n",
      "C1   0.060\n",
      "C2   0.057\n",
      "B2   0.057\n",
      "B5   0.056\n",
      "C3   0.054\n",
      "C4   0.051\n",
      "B1   0.048\n",
      "A5   0.047\n",
      "C5   0.046\n",
      "D1   0.040\n",
      "A4   0.040\n",
      "D2   0.035\n",
      "D3   0.031\n",
      "D4   0.029\n",
      "A3   0.027\n",
      "A1   0.025\n",
      "D5   0.024\n",
      "A2   0.024\n",
      "E1   0.020\n",
      "E2   0.019\n",
      "E3   0.016\n",
      "E4   0.014\n",
      "E5   0.012\n",
      "F1   0.009\n",
      "F2   0.007\n",
      "F3   0.006\n",
      "F4   0.005\n",
      "F5   0.004\n",
      "G1   0.003\n",
      "G2   0.002\n",
      "G3   0.001\n",
      "G4   0.001\n",
      "G5   0.001\n",
      "Name: sub_grade, dtype: float64\n",
      "\n",
      "10+ years   0.318\n",
      "2 years     0.090\n",
      "< 1 year    0.080\n",
      "3 years     0.080\n",
      "5 years     0.067\n",
      "1 year      0.065\n",
      "4 years     0.060\n",
      "6 years     0.053\n",
      "7 years     0.053\n",
      "8 years     0.048\n",
      "9 years     0.039\n",
      "Name: emp_length, dtype: float64\n",
      "\n",
      "MORTGAGE   0.501\n",
      "RENT       0.403\n",
      "OWN        0.095\n",
      "OTHER      0.000\n",
      "NONE       0.000\n",
      "ANY        0.000\n",
      "Name: home_ownership, dtype: float64\n",
      "\n",
      "Verified          0.352\n",
      "Source Verified   0.332\n",
      "Not Verified      0.316\n",
      "Name: verification_status, dtype: float64\n",
      "\n",
      "debt_consolidation   0.592\n",
      "credit_card          0.210\n",
      "home_improvement     0.061\n",
      "other                0.053\n",
      "major_purchase       0.022\n",
      "small_business       0.014\n",
      "car                  0.012\n",
      "medical              0.011\n",
      "moving               0.007\n",
      "vacation             0.006\n",
      "house                0.006\n",
      "wedding              0.005\n",
      "renewable_energy     0.001\n",
      "educational          0.001\n",
      "Name: purpose, dtype: float64\n",
      "\n",
      "f   0.601\n",
      "w   0.399\n",
      "Name: initial_list_status, dtype: float64\n",
      "\n",
      "INDIVIDUAL   0.998\n",
      "JOINT        0.001\n",
      "DIRECT_PAY   0.001\n",
      "Name: application_type, dtype: float64\n",
      "\n"
     ]
    }
   ],
   "source": [
    "removed_list = ['emp_title','title','address','earliest_cr_line','issue_d']\n",
    "selected_list = [e for e in cat_vars if e not in removed_list]\n",
    "\n",
    "# rare / infrequent labels (less than 1% of passengers)\n",
    "for var in selected_list:\n",
    "    print(df[var].value_counts() / np.float(len(df)))\n",
    "    print()"
   ]
  },
  {
   "cell_type": "markdown",
   "metadata": {},
   "source": [
    "#### Inspect unique values to check abnormal, special letters\n",
    "+ There is no special, abnormal letters in categorical vars"
   ]
  },
  {
   "cell_type": "code",
   "execution_count": 12,
   "metadata": {
    "scrolled": true
   },
   "outputs": [
    {
     "name": "stdout",
     "output_type": "stream",
     "text": [
      "term  values:  [' 36 months' ' 60 months']\n",
      "grade  values:  ['B' 'A' 'C' 'E' 'D' 'F' 'G']\n",
      "sub_grade  values:  ['B4' 'B5' 'B3' 'A2' 'C5' 'C3' 'A1' 'B2' 'C1' 'A5' 'E4' 'A4' 'A3' 'D1'\n",
      " 'C2' 'B1' 'D3' 'D5' 'D2' 'E1' 'E2' 'E5' 'F4' 'E3' 'D4' 'G1' 'F5' 'G2'\n",
      " 'C4' 'F1' 'F3' 'G5' 'G4' 'F2' 'G3']\n",
      "emp_length  values:  ['10+ years' '4 years' '< 1 year' '6 years' '9 years' '2 years' '3 years'\n",
      " '8 years' '7 years' '5 years' '1 year' nan]\n",
      "home_ownership  values:  ['RENT' 'MORTGAGE' 'OWN' 'OTHER' 'NONE' 'ANY']\n",
      "verification_status  values:  ['Not Verified' 'Source Verified' 'Verified']\n",
      "purpose  values:  ['vacation' 'debt_consolidation' 'credit_card' 'home_improvement'\n",
      " 'small_business' 'major_purchase' 'other' 'medical' 'wedding' 'car'\n",
      " 'moving' 'house' 'educational' 'renewable_energy']\n",
      "initial_list_status  values:  ['w' 'f']\n",
      "application_type  values:  ['INDIVIDUAL' 'JOINT' 'DIRECT_PAY']\n"
     ]
    }
   ],
   "source": [
    "removed_list = ['emp_title','title','address','earliest_cr_line','issue_d']\n",
    "selected_list = [e for e in cat_vars if e not in removed_list]\n",
    "\n",
    "for var in selected_list:\n",
    "    print(var, ' values: ', df[var].unique())"
   ]
  },
  {
   "cell_type": "markdown",
   "metadata": {},
   "source": [
    "### 3.2.5. Discrete vars"
   ]
  },
  {
   "cell_type": "code",
   "execution_count": 13,
   "metadata": {},
   "outputs": [
    {
     "data": {
      "text/html": [
       "<div>\n",
       "<style scoped>\n",
       "    .dataframe tbody tr th:only-of-type {\n",
       "        vertical-align: middle;\n",
       "    }\n",
       "\n",
       "    .dataframe tbody tr th {\n",
       "        vertical-align: top;\n",
       "    }\n",
       "\n",
       "    .dataframe thead th {\n",
       "        text-align: right;\n",
       "    }\n",
       "</style>\n",
       "<table border=\"1\" class=\"dataframe\">\n",
       "  <thead>\n",
       "    <tr style=\"text-align: right;\">\n",
       "      <th></th>\n",
       "      <th>pub_rec</th>\n",
       "      <th>pub_rec_bankruptcies</th>\n",
       "    </tr>\n",
       "  </thead>\n",
       "  <tbody>\n",
       "    <tr>\n",
       "      <th>0</th>\n",
       "      <td>0.000</td>\n",
       "      <td>0.000</td>\n",
       "    </tr>\n",
       "    <tr>\n",
       "      <th>1</th>\n",
       "      <td>0.000</td>\n",
       "      <td>0.000</td>\n",
       "    </tr>\n",
       "    <tr>\n",
       "      <th>2</th>\n",
       "      <td>0.000</td>\n",
       "      <td>0.000</td>\n",
       "    </tr>\n",
       "    <tr>\n",
       "      <th>3</th>\n",
       "      <td>0.000</td>\n",
       "      <td>0.000</td>\n",
       "    </tr>\n",
       "    <tr>\n",
       "      <th>4</th>\n",
       "      <td>0.000</td>\n",
       "      <td>0.000</td>\n",
       "    </tr>\n",
       "  </tbody>\n",
       "</table>\n",
       "</div>"
      ],
      "text/plain": [
       "   pub_rec  pub_rec_bankruptcies\n",
       "0    0.000                 0.000\n",
       "1    0.000                 0.000\n",
       "2    0.000                 0.000\n",
       "3    0.000                 0.000\n",
       "4    0.000                 0.000"
      ]
     },
     "execution_count": 13,
     "metadata": {},
     "output_type": "execute_result"
    }
   ],
   "source": [
    "df[dis_vars].head()"
   ]
  },
  {
   "cell_type": "markdown",
   "metadata": {},
   "source": [
    "#### Visualize the values of discrete values"
   ]
  },
  {
   "cell_type": "code",
   "execution_count": 14,
   "metadata": {},
   "outputs": [
    {
     "name": "stdout",
     "output_type": "stream",
     "text": [
      "pub_rec  values:  [ 0.  1.  2.  3.  4.  6.  5.  8.  9. 10. 11.  7. 19. 13. 40. 17. 86. 12.\n",
      " 24. 15.]\n",
      "pub_rec_bankruptcies  values:  [ 0.  1.  2.  3. nan  4.  5.  6.  7.  8.]\n"
     ]
    }
   ],
   "source": [
    "for var in dis_vars:\n",
    "    print(var, ' values: ', df[var].unique())"
   ]
  },
  {
   "cell_type": "markdown",
   "metadata": {},
   "source": [
    "**Variables contain only 1 value or missing value**: id, member_id, url, policy_code  => Should be removed"
   ]
  },
  {
   "cell_type": "code",
   "execution_count": 15,
   "metadata": {},
   "outputs": [],
   "source": [
    "for var in dis_vars:\n",
    "    if(len(df[var].unique()) == 1):\n",
    "        print(var, ' values: ', df[var].unique())"
   ]
  },
  {
   "cell_type": "markdown",
   "metadata": {},
   "source": [
    "#### Check outliers/rare values in discrete vars\n",
    "Let's calculate the percentage of passengers for each  of the values that can take the discrete variables in the titanic dataset. I will call outliers, those values that are present in less than 1% of the passengers. This is exactly the same as finding rare labels in categorical variables. Discrete variables, in essence can be pre-processed / engineered as if they were categorical. Keep this in mind.\n",
    "\n",
    "+ ***pub_rec, pub_rec_bankruptcies***: "
   ]
  },
  {
   "cell_type": "code",
   "execution_count": 16,
   "metadata": {
    "scrolled": true
   },
   "outputs": [
    {
     "name": "stdout",
     "output_type": "stream",
     "text": [
      "0.000    0.854\n",
      "1.000    0.126\n",
      "2.000    0.014\n",
      "3.000    0.004\n",
      "4.000    0.001\n",
      "5.000    0.001\n",
      "6.000    0.000\n",
      "7.000    0.000\n",
      "8.000    0.000\n",
      "9.000    0.000\n",
      "10.000   0.000\n",
      "11.000   0.000\n",
      "13.000   0.000\n",
      "12.000   0.000\n",
      "19.000   0.000\n",
      "86.000   0.000\n",
      "40.000   0.000\n",
      "17.000   0.000\n",
      "15.000   0.000\n",
      "24.000   0.000\n",
      "Name: pub_rec, dtype: float64\n",
      "\n",
      "0.000   0.885\n",
      "1.000   0.108\n",
      "2.000   0.005\n",
      "3.000   0.001\n",
      "4.000   0.000\n",
      "5.000   0.000\n",
      "6.000   0.000\n",
      "7.000   0.000\n",
      "8.000   0.000\n",
      "Name: pub_rec_bankruptcies, dtype: float64\n",
      "\n"
     ]
    }
   ],
   "source": [
    "# outlies in discrete variables\n",
    "for var in dis_vars:\n",
    "    print(df[var].value_counts() / np.float(len(df)))\n",
    "    print()"
   ]
  },
  {
   "cell_type": "markdown",
   "metadata": {},
   "source": [
    "### 3.2.6. Continous vars"
   ]
  },
  {
   "cell_type": "markdown",
   "metadata": {},
   "source": [
    "#### View continous vars"
   ]
  },
  {
   "cell_type": "code",
   "execution_count": 17,
   "metadata": {
    "scrolled": true
   },
   "outputs": [
    {
     "data": {
      "text/html": [
       "<div>\n",
       "<style scoped>\n",
       "    .dataframe tbody tr th:only-of-type {\n",
       "        vertical-align: middle;\n",
       "    }\n",
       "\n",
       "    .dataframe tbody tr th {\n",
       "        vertical-align: top;\n",
       "    }\n",
       "\n",
       "    .dataframe thead th {\n",
       "        text-align: right;\n",
       "    }\n",
       "</style>\n",
       "<table border=\"1\" class=\"dataframe\">\n",
       "  <thead>\n",
       "    <tr style=\"text-align: right;\">\n",
       "      <th></th>\n",
       "      <th>loan_amnt</th>\n",
       "      <th>int_rate</th>\n",
       "      <th>installment</th>\n",
       "      <th>annual_inc</th>\n",
       "      <th>dti</th>\n",
       "      <th>open_acc</th>\n",
       "      <th>revol_bal</th>\n",
       "      <th>revol_util</th>\n",
       "      <th>total_acc</th>\n",
       "      <th>mort_acc</th>\n",
       "    </tr>\n",
       "  </thead>\n",
       "  <tbody>\n",
       "    <tr>\n",
       "      <th>0</th>\n",
       "      <td>10000.000</td>\n",
       "      <td>11.440</td>\n",
       "      <td>329.480</td>\n",
       "      <td>117000.000</td>\n",
       "      <td>26.240</td>\n",
       "      <td>16.000</td>\n",
       "      <td>36369.000</td>\n",
       "      <td>41.800</td>\n",
       "      <td>25.000</td>\n",
       "      <td>0.000</td>\n",
       "    </tr>\n",
       "    <tr>\n",
       "      <th>1</th>\n",
       "      <td>8000.000</td>\n",
       "      <td>11.990</td>\n",
       "      <td>265.680</td>\n",
       "      <td>65000.000</td>\n",
       "      <td>22.050</td>\n",
       "      <td>17.000</td>\n",
       "      <td>20131.000</td>\n",
       "      <td>53.300</td>\n",
       "      <td>27.000</td>\n",
       "      <td>3.000</td>\n",
       "    </tr>\n",
       "    <tr>\n",
       "      <th>2</th>\n",
       "      <td>15600.000</td>\n",
       "      <td>10.490</td>\n",
       "      <td>506.970</td>\n",
       "      <td>43057.000</td>\n",
       "      <td>12.790</td>\n",
       "      <td>13.000</td>\n",
       "      <td>11987.000</td>\n",
       "      <td>92.200</td>\n",
       "      <td>26.000</td>\n",
       "      <td>0.000</td>\n",
       "    </tr>\n",
       "    <tr>\n",
       "      <th>3</th>\n",
       "      <td>7200.000</td>\n",
       "      <td>6.490</td>\n",
       "      <td>220.650</td>\n",
       "      <td>54000.000</td>\n",
       "      <td>2.600</td>\n",
       "      <td>6.000</td>\n",
       "      <td>5472.000</td>\n",
       "      <td>21.500</td>\n",
       "      <td>13.000</td>\n",
       "      <td>0.000</td>\n",
       "    </tr>\n",
       "    <tr>\n",
       "      <th>4</th>\n",
       "      <td>24375.000</td>\n",
       "      <td>17.270</td>\n",
       "      <td>609.330</td>\n",
       "      <td>55000.000</td>\n",
       "      <td>33.950</td>\n",
       "      <td>13.000</td>\n",
       "      <td>24584.000</td>\n",
       "      <td>69.800</td>\n",
       "      <td>43.000</td>\n",
       "      <td>1.000</td>\n",
       "    </tr>\n",
       "  </tbody>\n",
       "</table>\n",
       "</div>"
      ],
      "text/plain": [
       "   loan_amnt  int_rate  installment  annual_inc    dti  open_acc  revol_bal  revol_util  total_acc  mort_acc\n",
       "0  10000.000    11.440      329.480  117000.000 26.240    16.000  36369.000      41.800     25.000     0.000\n",
       "1   8000.000    11.990      265.680   65000.000 22.050    17.000  20131.000      53.300     27.000     3.000\n",
       "2  15600.000    10.490      506.970   43057.000 12.790    13.000  11987.000      92.200     26.000     0.000\n",
       "3   7200.000     6.490      220.650   54000.000  2.600     6.000   5472.000      21.500     13.000     0.000\n",
       "4  24375.000    17.270      609.330   55000.000 33.950    13.000  24584.000      69.800     43.000     1.000"
      ]
     },
     "execution_count": 17,
     "metadata": {},
     "output_type": "execute_result"
    }
   ],
   "source": [
    "df[cont_vars].head()"
   ]
  },
  {
   "cell_type": "markdown",
   "metadata": {},
   "source": [
    "### 3.2.7. Text vars"
   ]
  },
  {
   "cell_type": "code",
   "execution_count": null,
   "metadata": {
    "scrolled": false
   },
   "outputs": [],
   "source": []
  },
  {
   "cell_type": "markdown",
   "metadata": {},
   "source": [
    "### 3.2.8. Temporal vars"
   ]
  },
  {
   "cell_type": "code",
   "execution_count": 18,
   "metadata": {
    "scrolled": false
   },
   "outputs": [
    {
     "data": {
      "text/html": [
       "<div>\n",
       "<style scoped>\n",
       "    .dataframe tbody tr th:only-of-type {\n",
       "        vertical-align: middle;\n",
       "    }\n",
       "\n",
       "    .dataframe tbody tr th {\n",
       "        vertical-align: top;\n",
       "    }\n",
       "\n",
       "    .dataframe thead th {\n",
       "        text-align: right;\n",
       "    }\n",
       "</style>\n",
       "<table border=\"1\" class=\"dataframe\">\n",
       "  <thead>\n",
       "    <tr style=\"text-align: right;\">\n",
       "      <th></th>\n",
       "      <th>issue_d</th>\n",
       "      <th>earliest_cr_line</th>\n",
       "    </tr>\n",
       "  </thead>\n",
       "  <tbody>\n",
       "    <tr>\n",
       "      <th>0</th>\n",
       "      <td>Jan-2015</td>\n",
       "      <td>Jun-1990</td>\n",
       "    </tr>\n",
       "    <tr>\n",
       "      <th>1</th>\n",
       "      <td>Jan-2015</td>\n",
       "      <td>Jul-2004</td>\n",
       "    </tr>\n",
       "    <tr>\n",
       "      <th>2</th>\n",
       "      <td>Jan-2015</td>\n",
       "      <td>Aug-2007</td>\n",
       "    </tr>\n",
       "    <tr>\n",
       "      <th>3</th>\n",
       "      <td>Nov-2014</td>\n",
       "      <td>Sep-2006</td>\n",
       "    </tr>\n",
       "    <tr>\n",
       "      <th>4</th>\n",
       "      <td>Apr-2013</td>\n",
       "      <td>Mar-1999</td>\n",
       "    </tr>\n",
       "  </tbody>\n",
       "</table>\n",
       "</div>"
      ],
      "text/plain": [
       "    issue_d earliest_cr_line\n",
       "0  Jan-2015         Jun-1990\n",
       "1  Jan-2015         Jul-2004\n",
       "2  Jan-2015         Aug-2007\n",
       "3  Nov-2014         Sep-2006\n",
       "4  Apr-2013         Mar-1999"
      ]
     },
     "execution_count": 18,
     "metadata": {},
     "output_type": "execute_result"
    }
   ],
   "source": [
    "df[['issue_d', 'earliest_cr_line']].head()"
   ]
  },
  {
   "cell_type": "markdown",
   "metadata": {},
   "source": [
    "## 3.3. Summary\n",
    "\n",
    "### Overall\n",
    "+ Categorical variables: 5\n",
    "    - 2 Mixed type of variables:  Cabin, Ticket \n",
    "    - 3 categorical vars: Sex, Name, Embarked\n",
    "+ Numerical variables: 6\n",
    "    - 3 discrete: Pclass, SibSp and Parch\n",
    "    - 2 continuous: Fare and Age\n",
    "    - 1 sequence number: Id \n",
    "+ Binary target: 1 (Survived)\n",
    "\n",
    "### Problems\n",
    "+ **Redundant vars**:\n",
    "    - \n",
    "+ **Target variable**:\n",
    "    - Keep rows having loan_status as 'Fully Paid' or 'Charge Off', remove the rows with remaining values. There are 957061 missing labels and should be excluded in the cleaning step\n",
    "    - Need to define target var\n",
    "+ **Categorical vars**:\n",
    "    - Ordinal vars: term, emp_length => should be converted to numeric vars\n",
    "    - DateTime vars: issue_d, earliest_cr_line, last_pymnt_d, next_pymnt_d, last_credit_pull_d => should be converted to datetime\n",
    "    - Mixed type vars: Cabin, Ticket => extract numerical part and categorical part\n",
    "    - High cardinality vars: Name, Ticket, Cabin\n",
    "    - Only one value: \n",
    "+ **Discrete vars**:\n",
    "    - Norminal vars: policy_code => should be converted to categorical vars\n",
    "    - Only one value: id, member_id, url, policy_code  => Should be removed\n",
    "+ **Continous vars**:\n",
    "    - Sequence number: PassengerId (it is a label for each of the passengers)  => redundant variable, and should be removed\n",
    "+ **DateTime vars**:\n",
    "    - 'issue_d', 'last_pymnt_d','earliest_cr_line', 'next_pymnt_d', 'last_credit_pull_d' => should be converted to DateTime vars\n",
    "+ **Text vars**:\n",
    "    - desc"
   ]
  },
  {
   "cell_type": "markdown",
   "metadata": {},
   "source": [
    "## 3.3. Summary\n",
    "\n",
    "### Overall\n",
    "+ Categorical variables: 5\n",
    "    - 2 Mixed type of variables:  Cabin, Ticket \n",
    "    - 3 categorical vars: Sex, Name, Embarked\n",
    "+ Numerical variables: 6\n",
    "    - 3 discrete: Pclass, SibSp and Parch\n",
    "    - 2 continuous: Fare and Age\n",
    "    - 1 sequence number: Id \n",
    "+ Binary target: 1 (Survived)\n",
    "\n",
    "### Problems\n",
    "+ **Redundant vars**:\n",
    "    - \n",
    "+ **Target variable**:\n",
    "    - Keep rows having loan_status as 'Fully Paid' or 'Charge Off', remove the rows with remaining values. There are 957061 missing labels and should be excluded in the cleaning step\n",
    "    - Need to define target var\n",
    "+ **Categorical vars**:\n",
    "    - Ordinal vars: term, emp_length => should be converted to numeric vars\n",
    "    - DateTime vars: issue_d, earliest_cr_line, last_pymnt_d, next_pymnt_d, last_credit_pull_d => should be converted to datetime\n",
    "    - Mixed type vars: Cabin, Ticket => extract numerical part and categorical part\n",
    "    - High cardinality vars: Name, Ticket, Cabin\n",
    "    - Only one value: \n",
    "+ **Discrete vars**:\n",
    "    - Norminal vars: policy_code => should be converted to categorical vars\n",
    "    - Only one value: id, member_id, url, policy_code  => Should be removed\n",
    "+ **Continous vars**:\n",
    "    - Sequence number: PassengerId (it is a label for each of the passengers)  => redundant variable, and should be removed\n",
    "+ **DateTime vars**:\n",
    "    - 'issue_d', 'last_pymnt_d','earliest_cr_line', 'next_pymnt_d', 'last_credit_pull_d' => should be converted to DateTime vars\n",
    "+ **Text vars**:\n",
    "    - desc"
   ]
  },
  {
   "cell_type": "markdown",
   "metadata": {},
   "source": [
    "# 5. Data Cleaning"
   ]
  },
  {
   "cell_type": "markdown",
   "metadata": {},
   "source": [
    "## 5.1. Before cleaning dataset"
   ]
  },
  {
   "cell_type": "code",
   "execution_count": 19,
   "metadata": {
    "scrolled": false
   },
   "outputs": [
    {
     "name": "stdout",
     "output_type": "stream",
     "text": [
      "Original shape:  (396030, 27)\n",
      "\n",
      "Target var:  ['loan_status']\n",
      "\n",
      "Categorical vars:  ['term', 'grade', 'sub_grade', 'emp_title', 'emp_length', 'home_ownership', 'verification_status', 'issue_d', 'purpose', 'title', 'earliest_cr_line', 'initial_list_status', 'application_type', 'address']\n",
      "There are 14 categorical variables\n",
      "\n",
      "Numerical vars:  ['loan_amnt', 'int_rate', 'installment', 'annual_inc', 'dti', 'open_acc', 'pub_rec', 'revol_bal', 'revol_util', 'total_acc', 'mort_acc', 'pub_rec_bankruptcies']\n",
      "There are 12 numerical variables\n",
      "\n",
      "Discrete vars:  ['pub_rec', 'pub_rec_bankruptcies']\n",
      "There are 2 numerical variables\n",
      "\n",
      "Continous vars:  ['loan_amnt', 'int_rate', 'installment', 'annual_inc', 'dti', 'open_acc', 'revol_bal', 'revol_util', 'total_acc', 'mort_acc']\n",
      "There are 10 numerical variables\n"
     ]
    }
   ],
   "source": [
    "print('Original shape: ', df.shape)\n",
    "\n",
    "## target\n",
    "target = ['loan_status']\n",
    "print(\"\\nTarget var: \", target)\n",
    "\n",
    "## cat vars\n",
    "cat_vars = [var for var in df.columns if df[var].dtypes == 'O' if var not in target]\n",
    "print(\"\\nCategorical vars: \", cat_vars)\n",
    "print('There are {} categorical variables'.format(len(cat_vars)))\n",
    "\n",
    "num_vars = [var for var in df.columns if df[var].dtypes != 'O' if var not in target]\n",
    "print(\"\\nNumerical vars: \", num_vars)\n",
    "print('There are {} numerical variables'.format(len(num_vars)))\n",
    "\n",
    "dis_vars = [var for var in num_vars if len(df[var].unique()) < 30]\n",
    "print(\"\\nDiscrete vars: \", dis_vars)\n",
    "print('There are {} numerical variables'.format(len(dis_vars)))\n",
    "\n",
    "cont_vars = [var for var in num_vars if var not in dis_vars]\n",
    "print(\"\\nContinous vars: \", cont_vars)\n",
    "print('There are {} numerical variables'.format(len(cont_vars)))"
   ]
  },
  {
   "cell_type": "markdown",
   "metadata": {},
   "source": [
    "## 5.2. Cleaning data"
   ]
  },
  {
   "cell_type": "markdown",
   "metadata": {},
   "source": [
    "### 5.2.1. Define target"
   ]
  },
  {
   "cell_type": "code",
   "execution_count": 20,
   "metadata": {
    "scrolled": false
   },
   "outputs": [
    {
     "data": {
      "text/plain": [
       "Fully Paid     318357\n",
       "Charged Off     77673\n",
       "Name: loan_status, dtype: int64"
      ]
     },
     "execution_count": 20,
     "metadata": {},
     "output_type": "execute_result"
    }
   ],
   "source": [
    "df['loan_status'].value_counts()"
   ]
  },
  {
   "cell_type": "code",
   "execution_count": 21,
   "metadata": {
    "scrolled": true
   },
   "outputs": [
    {
     "data": {
      "text/plain": [
       "(396030, 27)"
      ]
     },
     "execution_count": 21,
     "metadata": {},
     "output_type": "execute_result"
    }
   ],
   "source": [
    "df['Class'] = df['loan_status'].map({'Fully Paid':0, 'Charged Off':1})\n",
    "df = df.drop('loan_status',axis=1)\n",
    "df.shape"
   ]
  },
  {
   "cell_type": "markdown",
   "metadata": {},
   "source": [
    "### 5.2.2. Remove redundant rows"
   ]
  },
  {
   "cell_type": "code",
   "execution_count": null,
   "metadata": {
    "scrolled": true
   },
   "outputs": [],
   "source": []
  },
  {
   "cell_type": "markdown",
   "metadata": {},
   "source": [
    "### 5.2.3. Remove unneccessary cols"
   ]
  },
  {
   "cell_type": "code",
   "execution_count": null,
   "metadata": {
    "scrolled": true
   },
   "outputs": [],
   "source": []
  },
  {
   "cell_type": "markdown",
   "metadata": {},
   "source": [
    "### 5.2.4. Convert wrong format to right format"
   ]
  },
  {
   "cell_type": "markdown",
   "metadata": {},
   "source": [
    "#### Convert ordinal vars to number"
   ]
  },
  {
   "cell_type": "code",
   "execution_count": 22,
   "metadata": {
    "scrolled": true
   },
   "outputs": [
    {
     "name": "stdout",
     "output_type": "stream",
     "text": [
      " 36 months    302005\n",
      " 60 months     94025\n",
      "Name: term, dtype: int64\n"
     ]
    },
    {
     "data": {
      "text/plain": [
       "36    302005\n",
       "60     94025\n",
       "Name: term, dtype: int64"
      ]
     },
     "execution_count": 22,
     "metadata": {},
     "output_type": "execute_result"
    }
   ],
   "source": [
    "print(df['term'].value_counts())\n",
    "df['term'] = df['term'].apply(lambda term: int(term[:3]))\n",
    "df['term'].value_counts()"
   ]
  },
  {
   "cell_type": "code",
   "execution_count": 23,
   "metadata": {
    "scrolled": true
   },
   "outputs": [
    {
     "name": "stdout",
     "output_type": "stream",
     "text": [
      "['10+ years' '4 years' '< 1 year' '6 years' '9 years' '2 years' '3 years'\n",
      " '8 years' '7 years' '5 years' '1 year' nan]\n"
     ]
    },
    {
     "data": {
      "text/plain": [
       "10.000    126041\n",
       "2.000      35827\n",
       "0.500      31725\n",
       "3.000      31665\n",
       "5.000      26495\n",
       "1.000      25882\n",
       "4.000      23952\n",
       "6.000      20841\n",
       "7.000      20819\n",
       "8.000      19168\n",
       "9.000      15314\n",
       "Name: num_emp_length, dtype: int64"
      ]
     },
     "execution_count": 23,
     "metadata": {},
     "output_type": "execute_result"
    }
   ],
   "source": [
    "print(df['emp_length'].unique())\n",
    "df['num_emp_length'] = df['emp_length'].map({'10+ years':10, \n",
    "                                         '9 years':9, \n",
    "                                         '8 years':8,\n",
    "                                         '7 years':7,\n",
    "                                         '6 years':6,\n",
    "                                         '5 years':5,\n",
    "                                         '4 years':4,\n",
    "                                         '3 years':3,\n",
    "                                         '2 years':2,\n",
    "                                         '1 year':1,\n",
    "                                         '< 1 year':0.5})\n",
    "df = df.drop('emp_length',axis=1)\n",
    "df['num_emp_length'].value_counts()"
   ]
  },
  {
   "cell_type": "markdown",
   "metadata": {},
   "source": [
    "#### Convert nominal vars to categorical vars"
   ]
  },
  {
   "cell_type": "markdown",
   "metadata": {},
   "source": [
    "#### Convert vars to datetime"
   ]
  },
  {
   "cell_type": "code",
   "execution_count": 24,
   "metadata": {},
   "outputs": [
    {
     "data": {
      "text/html": [
       "<div>\n",
       "<style scoped>\n",
       "    .dataframe tbody tr th:only-of-type {\n",
       "        vertical-align: middle;\n",
       "    }\n",
       "\n",
       "    .dataframe tbody tr th {\n",
       "        vertical-align: top;\n",
       "    }\n",
       "\n",
       "    .dataframe thead th {\n",
       "        text-align: right;\n",
       "    }\n",
       "</style>\n",
       "<table border=\"1\" class=\"dataframe\">\n",
       "  <thead>\n",
       "    <tr style=\"text-align: right;\">\n",
       "      <th></th>\n",
       "      <th>issue_d</th>\n",
       "      <th>earliest_cr_line</th>\n",
       "    </tr>\n",
       "  </thead>\n",
       "  <tbody>\n",
       "    <tr>\n",
       "      <th>0</th>\n",
       "      <td>Jan-2015</td>\n",
       "      <td>Jun-1990</td>\n",
       "    </tr>\n",
       "    <tr>\n",
       "      <th>1</th>\n",
       "      <td>Jan-2015</td>\n",
       "      <td>Jul-2004</td>\n",
       "    </tr>\n",
       "    <tr>\n",
       "      <th>2</th>\n",
       "      <td>Jan-2015</td>\n",
       "      <td>Aug-2007</td>\n",
       "    </tr>\n",
       "    <tr>\n",
       "      <th>3</th>\n",
       "      <td>Nov-2014</td>\n",
       "      <td>Sep-2006</td>\n",
       "    </tr>\n",
       "    <tr>\n",
       "      <th>4</th>\n",
       "      <td>Apr-2013</td>\n",
       "      <td>Mar-1999</td>\n",
       "    </tr>\n",
       "  </tbody>\n",
       "</table>\n",
       "</div>"
      ],
      "text/plain": [
       "    issue_d earliest_cr_line\n",
       "0  Jan-2015         Jun-1990\n",
       "1  Jan-2015         Jul-2004\n",
       "2  Jan-2015         Aug-2007\n",
       "3  Nov-2014         Sep-2006\n",
       "4  Apr-2013         Mar-1999"
      ]
     },
     "execution_count": 24,
     "metadata": {},
     "output_type": "execute_result"
    }
   ],
   "source": [
    "df[['issue_d','earliest_cr_line']].head()"
   ]
  },
  {
   "cell_type": "code",
   "execution_count": 25,
   "metadata": {
    "scrolled": true
   },
   "outputs": [
    {
     "data": {
      "text/html": [
       "<div>\n",
       "<style scoped>\n",
       "    .dataframe tbody tr th:only-of-type {\n",
       "        vertical-align: middle;\n",
       "    }\n",
       "\n",
       "    .dataframe tbody tr th {\n",
       "        vertical-align: top;\n",
       "    }\n",
       "\n",
       "    .dataframe thead th {\n",
       "        text-align: right;\n",
       "    }\n",
       "</style>\n",
       "<table border=\"1\" class=\"dataframe\">\n",
       "  <thead>\n",
       "    <tr style=\"text-align: right;\">\n",
       "      <th></th>\n",
       "      <th>issue_d</th>\n",
       "      <th>earliest_cr_line</th>\n",
       "    </tr>\n",
       "  </thead>\n",
       "  <tbody>\n",
       "    <tr>\n",
       "      <th>0</th>\n",
       "      <td>2015-01-01</td>\n",
       "      <td>1990-06-01</td>\n",
       "    </tr>\n",
       "    <tr>\n",
       "      <th>1</th>\n",
       "      <td>2015-01-01</td>\n",
       "      <td>2004-07-01</td>\n",
       "    </tr>\n",
       "    <tr>\n",
       "      <th>2</th>\n",
       "      <td>2015-01-01</td>\n",
       "      <td>2007-08-01</td>\n",
       "    </tr>\n",
       "    <tr>\n",
       "      <th>3</th>\n",
       "      <td>2014-11-01</td>\n",
       "      <td>2006-09-01</td>\n",
       "    </tr>\n",
       "    <tr>\n",
       "      <th>4</th>\n",
       "      <td>2013-04-01</td>\n",
       "      <td>1999-03-01</td>\n",
       "    </tr>\n",
       "  </tbody>\n",
       "</table>\n",
       "</div>"
      ],
      "text/plain": [
       "     issue_d earliest_cr_line\n",
       "0 2015-01-01       1990-06-01\n",
       "1 2015-01-01       2004-07-01\n",
       "2 2015-01-01       2007-08-01\n",
       "3 2014-11-01       2006-09-01\n",
       "4 2013-04-01       1999-03-01"
      ]
     },
     "execution_count": 25,
     "metadata": {},
     "output_type": "execute_result"
    }
   ],
   "source": [
    "df['issue_d'] = pd.to_datetime(df.issue_d)\n",
    "df['earliest_cr_line'] = pd.to_datetime(df.earliest_cr_line)\n",
    "\n",
    "df[['issue_d', 'earliest_cr_line']].head()"
   ]
  },
  {
   "cell_type": "markdown",
   "metadata": {},
   "source": [
    "### 5.2.5. Remove duplicated rows "
   ]
  },
  {
   "cell_type": "code",
   "execution_count": 26,
   "metadata": {},
   "outputs": [
    {
     "name": "stdout",
     "output_type": "stream",
     "text": [
      "(396030, 27)\n",
      "(396030, 27)\n"
     ]
    }
   ],
   "source": [
    "print (df.shape)\n",
    "df = df.drop_duplicates(keep='last')\n",
    "print (df.shape)"
   ]
  },
  {
   "cell_type": "markdown",
   "metadata": {},
   "source": [
    "### 5.2.6. Reset index"
   ]
  },
  {
   "cell_type": "code",
   "execution_count": 27,
   "metadata": {},
   "outputs": [],
   "source": [
    "df = df.reset_index(drop = True)"
   ]
  },
  {
   "cell_type": "markdown",
   "metadata": {},
   "source": [
    "## 5.3. After cleaning"
   ]
  },
  {
   "cell_type": "code",
   "execution_count": 28,
   "metadata": {
    "scrolled": true
   },
   "outputs": [
    {
     "name": "stdout",
     "output_type": "stream",
     "text": [
      "\n",
      "Target var:  ['Class']\n",
      "\n",
      "========================================================================\n",
      "\n",
      "Categorical vars:  ['grade', 'sub_grade', 'emp_title', 'home_ownership', 'verification_status', 'purpose', 'title', 'initial_list_status', 'application_type', 'address']\n",
      "There are 10 categorical variables\n",
      "\n",
      "One level vars:  []\n",
      "There are 0 One level variables\n",
      "\n",
      "Low cardinality vars:  ['grade', 'home_ownership', 'verification_status', 'purpose', 'initial_list_status', 'application_type']\n",
      "There are 6 Low cardinality variables\n",
      "\n",
      "High cardinality vars:  ['sub_grade', 'emp_title', 'title']\n",
      "There are 3 High cardinality variables\n",
      "\n",
      "Mixed type vars:  ['address']\n",
      "There are 1 Mixed type  variables\n",
      "\n",
      "========================================================================\n",
      "\n",
      "Numerical vars:  ['loan_amnt', 'term', 'int_rate', 'installment', 'annual_inc', 'issue_d', 'dti', 'earliest_cr_line', 'open_acc', 'pub_rec', 'revol_bal', 'revol_util', 'total_acc', 'mort_acc', 'pub_rec_bankruptcies', 'num_emp_length']\n",
      "\n",
      "There are 16 Numerical variables\n",
      "\n",
      "Discrete vars:  ['term', 'pub_rec_bankruptcies', 'num_emp_length']\n",
      "There are 3 Discrete variables\n",
      "\n",
      "Continous vars:  ['loan_amnt', 'int_rate', 'installment', 'annual_inc', 'issue_d', 'dti', 'earliest_cr_line', 'open_acc', 'pub_rec', 'revol_bal', 'revol_util', 'total_acc', 'mort_acc']\n",
      "There are 13 Continous variables\n",
      "\n",
      "========================================================================\n",
      "\n",
      "DateTime vars:  ['issue_d', 'earliest_cr_line']\n",
      "There are 2 DateTime variables\n",
      "\n",
      "========================================================================\n",
      "\n",
      "Text vars:  []\n",
      "There are 0 Text variables\n"
     ]
    }
   ],
   "source": [
    "## target\n",
    "target = ['Class']\n",
    "print(\"\\nTarget var: \", target)\n",
    "\n",
    "text_vars = []\n",
    "\n",
    "mixed_vars = ['address']\n",
    "\n",
    "## cat vars\n",
    "cat_vars = [var for var in df.columns if df[var].dtypes == 'O' if var not in target]\n",
    "print(\"\\n========================================================================\")\n",
    "print(\"\\nCategorical vars: \", cat_vars)\n",
    "print('There are {} categorical variables'.format(len(cat_vars)))\n",
    "\n",
    "one_level = [var for var in cat_vars if len(df[var].unique()) == 1 if var not in mixed_vars+text_vars]\n",
    "print(\"\\nOne level vars: \", one_level)\n",
    "print('There are {} One level variables'.format(len(one_level)))\n",
    "\n",
    "low_levels = [var for var in cat_vars if len(df[var].unique()) <= 30 if var not in mixed_vars+text_vars]\n",
    "print(\"\\nLow cardinality vars: \", low_levels)\n",
    "print('There are {} Low cardinality variables'.format(len(low_levels)))\n",
    "\n",
    "high_levels = [var for var in cat_vars if len(df[var].unique()) > 30 if var not in mixed_vars+text_vars]\n",
    "print(\"\\nHigh cardinality vars: \", high_levels)\n",
    "print('There are {} High cardinality variables'.format(len(high_levels)))\n",
    "\n",
    "print(\"\\nMixed type vars: \", mixed_vars)\n",
    "print('There are {} Mixed type  variables'.format(len(mixed_vars)))\n",
    "\n",
    "num_vars = [var for var in df.columns if df[var].dtypes != 'O' if var not in target]\n",
    "print(\"\\n========================================================================\")\n",
    "print(\"\\nNumerical vars: \", num_vars)\n",
    "print('\\nThere are {} Numerical variables'.format(len(num_vars)))\n",
    "\n",
    "dis_vars = [var for var in num_vars if len(df[var].unique()) < 20]\n",
    "print(\"\\nDiscrete vars: \", dis_vars)\n",
    "print('There are {} Discrete variables'.format(len(dis_vars)))\n",
    "\n",
    "cont_vars = [var for var in num_vars if var not in dis_vars]\n",
    "print(\"\\nContinous vars: \", cont_vars)\n",
    "print('There are {} Continous variables'.format(len(cont_vars)))\n",
    "\n",
    "datetime_vars = [var for var in df.columns if df[var].dtypes == '<M8[ns]']\n",
    "print(\"\\n========================================================================\")\n",
    "print(\"\\nDateTime vars: \", datetime_vars)\n",
    "print('There are {} DateTime variables'.format(len(datetime_vars)))\n",
    "\n",
    "print(\"\\n========================================================================\")\n",
    "print(\"\\nText vars: \", text_vars)\n",
    "print('There are {} Text variables'.format(len(text_vars)))"
   ]
  },
  {
   "cell_type": "code",
   "execution_count": null,
   "metadata": {},
   "outputs": [],
   "source": []
  },
  {
   "cell_type": "code",
   "execution_count": 29,
   "metadata": {},
   "outputs": [],
   "source": [
    "df.to_csv('cleaned_ds.csv',index=False)"
   ]
  },
  {
   "cell_type": "code",
   "execution_count": 31,
   "metadata": {},
   "outputs": [
    {
     "data": {
      "text/plain": [
       "(396030, 27)"
      ]
     },
     "execution_count": 31,
     "metadata": {},
     "output_type": "execute_result"
    }
   ],
   "source": [
    "df.shape"
   ]
  },
  {
   "cell_type": "code",
   "execution_count": null,
   "metadata": {},
   "outputs": [],
   "source": []
  },
  {
   "cell_type": "code",
   "execution_count": null,
   "metadata": {},
   "outputs": [],
   "source": []
  }
 ],
 "metadata": {
  "kernelspec": {
   "display_name": "Python 3",
   "language": "python",
   "name": "python3"
  },
  "language_info": {
   "codemirror_mode": {
    "name": "ipython",
    "version": 3
   },
   "file_extension": ".py",
   "mimetype": "text/x-python",
   "name": "python",
   "nbconvert_exporter": "python",
   "pygments_lexer": "ipython3",
   "version": "3.7.3"
  }
 },
 "nbformat": 4,
 "nbformat_minor": 2
}
